{
 "cells": [
  {
   "cell_type": "markdown",
   "id": "aa2e075c-3ff4-41ff-b28f-3cf4035b6a16",
   "metadata": {},
   "source": [
    "# Data Science Tools and Ecosystem"
   ]
  },
  {
   "cell_type": "markdown",
   "id": "c7bbec9e-c27d-4fbd-85e7-ebfb7480045d",
   "metadata": {},
   "source": [
    "In this notebook, Data Science Tools and Ecosystem are summarized.\n"
   ]
  },
  {
   "cell_type": "markdown",
   "id": "24b18c3f-53fc-4fa7-99e7-57d01c3d8a73",
   "metadata": {},
   "source": [
    "**Objectives:**\n",
    "* List of popular languages used in Data Science.\n",
    "* Commonly used libraries in Data Science.\n",
    "* :ist of open source tools."
   ]
  },
  {
   "cell_type": "markdown",
   "id": "f75ff0a2-77a9-4db3-9225-7c8731bde1fd",
   "metadata": {},
   "source": [
    "Some of the popular languages that Data Scientists use are:\n",
    "* R\n",
    "* Python\n",
    "* SQL"
   ]
  },
  {
   "cell_type": "markdown",
   "id": "e1055c75-d366-4068-96ec-a72bdcff7d80",
   "metadata": {},
   "source": [
    "Some of the commonly used libraries used by Data Scientists include:\n",
    "* Pandas\n",
    "* NumPy\n",
    "* SciPy"
   ]
  },
  {
   "cell_type": "markdown",
   "id": "c8d1d2a7-dc08-4436-8456-61a302e66dbb",
   "metadata": {},
   "source": [
    "|Data Science Tools|\n",
    "|----------|\n",
    "|Jupyter Notebook|\n",
    "|RStudio|\n",
    "|Spyder|"
   ]
  },
  {
   "cell_type": "markdown",
   "id": "12f7666c-08ba-42eb-98f6-519caca38e38",
   "metadata": {},
   "source": [
    "### Below are a few examples of evaluating arithmetic expressions in Python."
   ]
  },
  {
   "cell_type": "code",
   "execution_count": 5,
   "id": "dab9947a-e78b-4902-aabe-27f288c59ac1",
   "metadata": {},
   "outputs": [
    {
     "data": {
      "text/plain": [
       "17"
      ]
     },
     "execution_count": 5,
     "metadata": {},
     "output_type": "execute_result"
    }
   ],
   "source": [
    "# This a simple arithmetic expression to multiply then add integers\n",
    "(3*4)+5"
   ]
  },
  {
   "cell_type": "code",
   "execution_count": 8,
   "id": "fb1a1da5-2a47-42e0-abff-22a5d8bbc154",
   "metadata": {},
   "outputs": [
    {
     "data": {
      "text/plain": [
       "3.3333333333333335"
      ]
     },
     "execution_count": 8,
     "metadata": {},
     "output_type": "execute_result"
    }
   ],
   "source": [
    "#This will convert 200 minutes to hours by diving by 60\n",
    "200/60"
   ]
  },
  {
   "cell_type": "markdown",
   "id": "294d53be-144b-47cd-8862-182b31b3c5b4",
   "metadata": {},
   "source": [
    "## Author: \n",
    "Bar Kenedy"
   ]
  }
 ],
 "metadata": {
  "kernelspec": {
   "display_name": "Python 3 (ipykernel)",
   "language": "python",
   "name": "python3"
  },
  "language_info": {
   "codemirror_mode": {
    "name": "ipython",
    "version": 3
   },
   "file_extension": ".py",
   "mimetype": "text/x-python",
   "name": "python",
   "nbconvert_exporter": "python",
   "pygments_lexer": "ipython3",
   "version": "3.12.5"
  }
 },
 "nbformat": 4,
 "nbformat_minor": 5
}
